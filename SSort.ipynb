{
  "nbformat": 4,
  "nbformat_minor": 0,
  "metadata": {
    "colab": {
      "provenance": [],
      "authorship_tag": "ABX9TyPaVvuYPMJ2zaKm/p/V5Q/+",
      "include_colab_link": true
    },
    "kernelspec": {
      "name": "python3",
      "display_name": "Python 3"
    },
    "language_info": {
      "name": "python"
    }
  },
  "cells": [
    {
      "cell_type": "markdown",
      "metadata": {
        "id": "view-in-github",
        "colab_type": "text"
      },
      "source": [
        "<a href=\"https://colab.research.google.com/github/Srinivas26k/Srinivas-Sort-Algorithm/blob/main/SSort.ipynb\" target=\"_parent\"><img src=\"https://colab.research.google.com/assets/colab-badge.svg\" alt=\"Open In Colab\"/></a>"
      ]
    },
    {
      "cell_type": "code",
      "execution_count": 1,
      "metadata": {
        "colab": {
          "base_uri": "https://localhost:8080/"
        },
        "id": "Zmd-CjCiW_vd",
        "outputId": "1b131cde-ad8f-47d2-e738-09685be7f67b"
      },
      "outputs": [
        {
          "output_type": "stream",
          "name": "stdout",
          "text": [
            "Sorted Data: ['Apple', 'Banana', 'Grape', 'Orange', 'Pineapple', 'Strawberry']\n"
          ]
        }
      ],
      "source": [
        "# Function to get the numerical value of a letter\n",
        "def letter_value(letter):\n",
        "    # Convert letter to uppercase to handle case insensitivity\n",
        "    letter = letter.upper()\n",
        "    return ord(letter) - ord('A') + 1\n",
        "\n",
        "# Custom sorting function based on the first letter's value in 'Srinivas'\n",
        "def srinivas_sort(data):\n",
        "    # Sort the data based on the first letter's value from 'Srinivas'\n",
        "    return sorted(data, key=lambda x: letter_value(x[0]))\n",
        "\n",
        "# Example data to sort\n",
        "data = [\"Banana\", \"Apple\", \"Orange\", \"Grape\", \"Pineapple\", \"Strawberry\"]\n",
        "\n",
        "# Sorting using Srinivas Sort (SSort)\n",
        "sorted_data = srinivas_sort(data)\n",
        "\n",
        "# Display sorted data\n",
        "print(\"Sorted Data:\", sorted_data)\n"
      ]
    },
    {
      
