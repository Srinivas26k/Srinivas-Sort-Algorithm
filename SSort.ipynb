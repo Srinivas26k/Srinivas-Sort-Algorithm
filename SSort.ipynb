{
  "nbformat": 4,
  "nbformat_minor": 0,
  "metadata": {
    "colab": {
      "provenance": [],
      "authorship_tag": "ABX9TyPaVvuYPMJ2zaKm/p/V5Q/+",
      "include_colab_link": true
    },
    "kernelspec": {
      "name": "python3",
      "display_name": "Python 3"
    },
    "language_info": {
      "name": "python"
    }
  },
  "cells": [
    {
      "cell_type": "markdown",
      "metadata": {
        "id": "view-in-github",
        "colab_type": "text"
      },
      "source": [
        "<a href=\"https://colab.research.google.com/github/Srinivas26k/Srinivas-Sort-Algorithm/blob/main/SSort.ipynb\" target=\"_parent\"><img src=\"https://colab.research.google.com/assets/colab-badge.svg\" alt=\"Open In Colab\"/></a>"
      ]
    },
    {
      "cell_type": "code",
      "execution_count": 1,
      "metadata": {
        "colab": {
          "base_uri": "https://localhost:8080/"
        },
        "id": "Zmd-CjCiW_vd",
        "outputId": "1b131cde-ad8f-47d2-e738-09685be7f67b"
      },
      "outputs": [
        {
          "output_type": "stream",
          "name": "stdout",
          "text": [
            "Sorted Data: ['Apple', 'Banana', 'Grape', 'Orange', 'Pineapple', 'Strawberry']\n"
          ]
        }
      ],
      "source": [
        "# Function to get the numerical value of a letter\n",
        "def letter_value(letter):\n",
        "    # Convert letter to uppercase to handle case insensitivity\n",
        "    letter = letter.upper()\n",
        "    return ord(letter) - ord('A') + 1\n",
        "\n",
        "# Custom sorting function based on the first letter's value in 'Srinivas'\n",
        "def srinivas_sort(data):\n",
        "    # Sort the data based on the first letter's value from 'Srinivas'\n",
        "    return sorted(data, key=lambda x: letter_value(x[0]))\n",
        "\n",
        "# Example data to sort\n",
        "data = [\"Banana\", \"Apple\", \"Orange\", \"Grape\", \"Pineapple\", \"Strawberry\"]\n",
        "\n",
        "# Sorting using Srinivas Sort (SSort)\n",
        "sorted_data = srinivas_sort(data)\n",
        "\n",
        "# Display sorted data\n",
        "print(\"Sorted Data:\", sorted_data)\n"
      ]
    },
    {
      "cell_type": "code",
      "source": [
        "# Install Git in Colab\n",
        "!apt-get install git\n",
        "\n",
        "# Configure Git with your GitHub credentials (only needed once)\n",
        "!git config --global user.email \"srinivasvarma764@gmail.com\"\n",
        "!git config --global user.name \"Srinivas26k\"\n",
        "\n",
        "# Clone your repository (replace 'YOUR_REPOSITORY_URL' with your GitHub URL)\n",
        "!git clone https://github.com/Srinivas26k/Srinivas-Sort-Algorithm.git\n",
        "\n",
        "# Navigate to the repository folder\n",
        "%cd Srinivas-Sort-Algorithm\n",
        "\n",
        "# Save the current code to a file (e.g., srinivas_sort.py)\n",
        "with open('srinivas_sort.py', 'w') as f:\n",
        "    f.write(\"srinivas_sort.py\")\n"
      ],
      "metadata": {
        "colab": {
          "base_uri": "https://localhost:8080/"
        },
        "id": "CKH-2UrFX7Mr",
        "outputId": "52f56670-0d16-410b-8458-99c4c1deed51"
      },
      "execution_count": 3,
      "outputs": [
        {
          "output_type": "stream",
          "name": "stdout",
          "text": [
            "Reading package lists... Done\n",
            "Building dependency tree... Done\n",
            "Reading state information... Done\n",
            "git is already the newest version (1:2.34.1-1ubuntu1.11).\n",
            "0 upgraded, 0 newly installed, 0 to remove and 49 not upgraded.\n",
            "Cloning into 'Srinivas-Sort-Algorithm'...\n",
            "fatal: could not read Username for 'https://github.com': No such device or address\n",
            "[Errno 2] No such file or directory: 'Srinivas-Sort-Algorithm'\n",
            "/content\n"
          ]
        }
      ]
    }
  ]
}